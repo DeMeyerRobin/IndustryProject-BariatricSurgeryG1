{
 "cells": [
  {
   "cell_type": "code",
   "execution_count": 1,
   "id": "1ca3a54e",
   "metadata": {},
   "outputs": [],
   "source": [
    "import pandas as pd\n",
    "import numpy as np"
   ]
  },
  {
   "cell_type": "code",
   "execution_count": 2,
   "id": "abb10ea2",
   "metadata": {},
   "outputs": [],
   "source": [
    "df=pd.read_excel('C://Users//demey//Documents//2024-2025//Industry Project//Bariatric Project Study Data 202505.xlsx', sheet_name='Sheet1')"
   ]
  },
  {
   "cell_type": "code",
   "execution_count": 6,
   "id": "dfdc34d8",
   "metadata": {},
   "outputs": [],
   "source": [
    "core_X_data=df[['gender', 'age', 'height', 'weight', 'bmi', 'ibw', 'ebw', 'surgical_hist_cnt', 'family_hist_cnt', 'chronic_meds_cnt', 'cm_count']].copy()"
   ]
  },
  {
   "cell_type": "code",
   "execution_count": 7,
   "id": "f99250c7",
   "metadata": {},
   "outputs": [
    {
     "data": {
      "text/html": [
       "<div>\n",
       "<style scoped>\n",
       "    .dataframe tbody tr th:only-of-type {\n",
       "        vertical-align: middle;\n",
       "    }\n",
       "\n",
       "    .dataframe tbody tr th {\n",
       "        vertical-align: top;\n",
       "    }\n",
       "\n",
       "    .dataframe thead th {\n",
       "        text-align: right;\n",
       "    }\n",
       "</style>\n",
       "<table border=\"1\" class=\"dataframe\">\n",
       "  <thead>\n",
       "    <tr style=\"text-align: right;\">\n",
       "      <th></th>\n",
       "      <th>gender</th>\n",
       "      <th>age</th>\n",
       "      <th>height</th>\n",
       "      <th>weight</th>\n",
       "      <th>bmi</th>\n",
       "      <th>ibw</th>\n",
       "      <th>ebw</th>\n",
       "      <th>surgical_hist_cnt</th>\n",
       "      <th>family_hist_cnt</th>\n",
       "      <th>chronic_meds_cnt</th>\n",
       "      <th>cm_count</th>\n",
       "    </tr>\n",
       "  </thead>\n",
       "  <tbody>\n",
       "    <tr>\n",
       "      <th>0</th>\n",
       "      <td>Female</td>\n",
       "      <td>50</td>\n",
       "      <td>154</td>\n",
       "      <td>146.0</td>\n",
       "      <td>61.56</td>\n",
       "      <td>55.99</td>\n",
       "      <td>90.01</td>\n",
       "      <td>0</td>\n",
       "      <td>0</td>\n",
       "      <td>0</td>\n",
       "      <td>7</td>\n",
       "    </tr>\n",
       "    <tr>\n",
       "      <th>1</th>\n",
       "      <td>Female</td>\n",
       "      <td>52</td>\n",
       "      <td>168</td>\n",
       "      <td>96.0</td>\n",
       "      <td>34.00</td>\n",
       "      <td>70.00</td>\n",
       "      <td>26.00</td>\n",
       "      <td>0</td>\n",
       "      <td>0</td>\n",
       "      <td>0</td>\n",
       "      <td>5</td>\n",
       "    </tr>\n",
       "    <tr>\n",
       "      <th>2</th>\n",
       "      <td>Female</td>\n",
       "      <td>23</td>\n",
       "      <td>163</td>\n",
       "      <td>143.0</td>\n",
       "      <td>53.82</td>\n",
       "      <td>58.04</td>\n",
       "      <td>84.96</td>\n",
       "      <td>0</td>\n",
       "      <td>0</td>\n",
       "      <td>0</td>\n",
       "      <td>2</td>\n",
       "    </tr>\n",
       "    <tr>\n",
       "      <th>3</th>\n",
       "      <td>Female</td>\n",
       "      <td>23</td>\n",
       "      <td>176</td>\n",
       "      <td>120.0</td>\n",
       "      <td>38.74</td>\n",
       "      <td>52.59</td>\n",
       "      <td>67.41</td>\n",
       "      <td>0</td>\n",
       "      <td>0</td>\n",
       "      <td>0</td>\n",
       "      <td>0</td>\n",
       "    </tr>\n",
       "    <tr>\n",
       "      <th>4</th>\n",
       "      <td>Female</td>\n",
       "      <td>57</td>\n",
       "      <td>162</td>\n",
       "      <td>112.0</td>\n",
       "      <td>42.68</td>\n",
       "      <td>65.35</td>\n",
       "      <td>46.65</td>\n",
       "      <td>0</td>\n",
       "      <td>0</td>\n",
       "      <td>7</td>\n",
       "      <td>1</td>\n",
       "    </tr>\n",
       "  </tbody>\n",
       "</table>\n",
       "</div>"
      ],
      "text/plain": [
       "   gender  age  height  weight    bmi    ibw    ebw  surgical_hist_cnt  \\\n",
       "0  Female   50     154   146.0  61.56  55.99  90.01                  0   \n",
       "1  Female   52     168    96.0  34.00  70.00  26.00                  0   \n",
       "2  Female   23     163   143.0  53.82  58.04  84.96                  0   \n",
       "3  Female   23     176   120.0  38.74  52.59  67.41                  0   \n",
       "4  Female   57     162   112.0  42.68  65.35  46.65                  0   \n",
       "\n",
       "   family_hist_cnt  chronic_meds_cnt  cm_count  \n",
       "0                0                 0         7  \n",
       "1                0                 0         5  \n",
       "2                0                 0         2  \n",
       "3                0                 0         0  \n",
       "4                0                 7         1  "
      ]
     },
     "execution_count": 7,
     "metadata": {},
     "output_type": "execute_result"
    }
   ],
   "source": [
    "core_X_data.head()"
   ]
  },
  {
   "cell_type": "code",
   "execution_count": null,
   "id": "1d85eb90",
   "metadata": {},
   "outputs": [],
   "source": []
  }
 ],
 "metadata": {
  "kernelspec": {
   "display_name": "base",
   "language": "python",
   "name": "python3"
  },
  "language_info": {
   "codemirror_mode": {
    "name": "ipython",
    "version": 3
   },
   "file_extension": ".py",
   "mimetype": "text/x-python",
   "name": "python",
   "nbconvert_exporter": "python",
   "pygments_lexer": "ipython3",
   "version": "3.12.7"
  }
 },
 "nbformat": 4,
 "nbformat_minor": 5
}
