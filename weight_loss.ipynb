{
 "cells": [
  {
   "cell_type": "code",
   "execution_count": 1,
   "id": "6d04ed00",
   "metadata": {},
   "outputs": [],
   "source": [
    "\n",
    "import pandas as pd\n",
    "import numpy as np\n",
    "import matplotlib.pyplot as plt\n",
    "import seaborn as sns\n",
    "from scipy import stats\n",
    "import warnings\n",
    "warnings.filterwarnings('ignore')\n",
    "df=pd.read_excel('files_second_analytics/Bariatric Project Study Data 202505.xlsx', sheet_name='Sheet1')"
   ]
  },
  {
   "cell_type": "code",
   "execution_count": null,
   "id": "f62e7611",
   "metadata": {},
   "outputs": [
    {
     "data": {
      "text/plain": [
       "5     115.0\n",
       "7     131.0\n",
       "10    160.0\n",
       "13    144.8\n",
       "18    155.0\n",
       "21    107.0\n",
       "30    124.0\n",
       "38    133.0\n",
       "49     98.0\n",
       "55    107.0\n",
       "Name: weight, dtype: float64"
      ]
     },
     "execution_count": 14,
     "metadata": {},
     "output_type": "execute_result"
    }
   ],
   "source": [
    "df = df.dropna(subset=['weight.4'])\n",
    "df_weight_12_months= df[\"weight.4\"]\n",
    "df_weight_pre_op=df[\"weight\"]\n",
    "df['weight_loss_percentage'] = df['weight'] - df['weight.4'] /df['weight'] *100\n",
    "df_weight_loss_total= df['weight_loss_percentage']\n",
    "\n",
    "\n",
    "\n",
    "df_weight_pre_op.head(10)\n"
   ]
  },
  {
   "cell_type": "code",
   "execution_count": 15,
   "id": "4f648be7",
   "metadata": {},
   "outputs": [
    {
     "data": {
      "text/plain": [
       "5      80.0\n",
       "7      87.0\n",
       "10    112.0\n",
       "13    125.0\n",
       "18     98.0\n",
       "21     62.9\n",
       "30    103.0\n",
       "38    111.0\n",
       "49     74.0\n",
       "55     74.7\n",
       "Name: weight.4, dtype: float64"
      ]
     },
     "execution_count": 15,
     "metadata": {},
     "output_type": "execute_result"
    }
   ],
   "source": [
    "df_weight_12_months.head(10)"
   ]
  },
  {
   "cell_type": "code",
   "execution_count": null,
   "id": "e6af332e",
   "metadata": {},
   "outputs": [],
   "source": []
  }
 ],
 "metadata": {
  "kernelspec": {
   "display_name": "Python 3",
   "language": "python",
   "name": "python3"
  },
  "language_info": {
   "codemirror_mode": {
    "name": "ipython",
    "version": 3
   },
   "file_extension": ".py",
   "mimetype": "text/x-python",
   "name": "python",
   "nbconvert_exporter": "python",
   "pygments_lexer": "ipython3",
   "version": "3.12.10"
  }
 },
 "nbformat": 4,
 "nbformat_minor": 5
}
