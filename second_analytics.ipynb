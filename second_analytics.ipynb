{
 "cells": [
  {
   "cell_type": "code",
   "execution_count": 2,
   "id": "e09af6b4",
   "metadata": {},
   "outputs": [],
   "source": [
    "\n",
    "import pandas as pd\n",
    "import numpy as np\n",
    "import matplotlib.pyplot as plt\n",
    "import seaborn as sns\n",
    "from scipy import stats\n",
    "import warnings\n",
    "warnings.filterwarnings('ignore')\n",
    "df=pd.read_excel('C://Users//demey//Documents//2024-2025//Industry Project//Bariatric Project Study Data 2025_mod.xlsx', sheet_name='Sheet1')"
   ]
  },
  {
   "cell_type": "markdown",
   "id": "9c365da4",
   "metadata": {},
   "source": [
    "PRE-OP DATASET"
   ]
  },
  {
   "cell_type": "code",
   "execution_count": 3,
   "id": "ef6019a2",
   "metadata": {},
   "outputs": [
    {
     "name": "stdout",
     "output_type": "stream",
     "text": [
      "Dropped CM columns: []\n",
      "Remaining columns in CM data: ['CM_AIDS', 'CM_ANEMDEF', 'CM_ARTH', 'CM_CHF', 'CM_DEPRESS', 'CM_DM', 'CM_DMCX', 'CM_HTN_C', 'CM_HYPOTHY', 'CM_LIVER', 'CM_OBESE', 'CM_PSYCH', 'CM_SMOKE', 'CM_APNEA', 'CM_CHOLSTRL', 'CM_OSTARTH', 'CM_HPLD']\n"
     ]
    }
   ],
   "source": [
    "core_X_data=df[['gender', 'age', 'height', 'weight', 'bmi', 'family_hist_cnt', 'chronic_meds_cnt','procedure_category','antibiotics','cholecystectomy_repair','hiatus_hernia_repair','drain']].copy()\n",
    "cm_cols= [col for col in df.columns if col.startswith('CM_')]\n",
    "\n",
    "cm_data = df[cm_cols].fillna(0).astype(int)\n",
    "cm_data\n",
    "zero_only = [col for col in cm_data.columns if (cm_data[col] == 0).all()]\n",
    "cm_data = cm_data.drop(columns=zero_only)\n",
    "\n",
    "# finally, join the filtered CM_ data back into your core set\n",
    "core_X_data = core_X_data.join(cm_data)\n",
    "\n",
    "# inspect result\n",
    "print(\"Dropped CM columns:\", zero_only)\n",
    "print(\"Remaining columns in CM data:\", cm_data.columns.tolist())\n"
   ]
  },
  {
   "cell_type": "code",
   "execution_count": 4,
   "id": "eb919986",
   "metadata": {},
   "outputs": [
    {
     "name": "stdout",
     "output_type": "stream",
     "text": [
      "CM_CHF is present in core_X_data!\n",
      "CM_NEURO is NOT in core_X_data.\n"
     ]
    }
   ],
   "source": [
    "# Check whether CM_NEURO survived the filtering\n",
    "if 'CM_CHF' in core_X_data.columns:\n",
    "    print(\"CM_CHF is present in core_X_data!\")\n",
    "else:\n",
    "    \n",
    "    print(\"CM_CHFis NOT in core_X_data.\")\n",
    "if 'CM_DRUG' in core_X_data.columns:\n",
    "    print(\"CM_NEURO is present in core_X_data!\")\n",
    "else:\n",
    "    print(\"CM_NEURO is NOT in core_X_data.\")\n"
   ]
  },
  {
   "cell_type": "code",
   "execution_count": 5,
   "id": "a937773f",
   "metadata": {},
   "outputs": [
    {
     "name": "stdout",
     "output_type": "stream",
     "text": [
      "New dataset shape (rows, columns): (348, 94)\n",
      "        id  complication\n",
      "0  45488.0             0\n",
      "1      NaN             0\n",
      "2  37462.0             1\n",
      "3  40661.0             0\n",
      "4      NaN             0\n",
      "5  40699.0             0\n",
      "6  38920.0             0\n",
      "7  37827.0             0\n",
      "8  47189.0             0\n",
      "9      NaN             0\n",
      "First 15 column names: ['doctor', 'procedure_category', 'hospitalDesc', 'hospital_wardDesc', 'days_since_admission', 'length_of_stay', 'gender', 'age', 'weight', 'height', 'bmi', 'family_hist_cnt', 'chronic_meds_cnt', 'cm_count', 'morbidity', 'CM_AIDS', 'CM_ANEMDEF', 'CM_ARTH', 'CM_CHF', 'CM_DEPRESS', 'CM_DM', 'CM_DMCX', 'CM_HTN_C', 'CM_HYPOTHY', 'CM_LIVER', 'CM_OBESE', 'CM_PSYCH', 'CM_SMOKE', 'CM_APNEA', 'CM_CHOLSTRL', 'CM_OSTARTH', 'CM_HPLD', 'emergency_surgery', 'surgeon', 'assistant', 'second_assistant', 'anaesthetist', 'antibiotics', 'cvp', 'cvp_a_line', 'cvp_catheter', 'cvp_dvt_pumps', 'surgery_notes', 'stapling', 'peritoneal_defects', 'peritoneal_defects_closed', 'bloodloss', 'bloodloss_amt', 'sheath_closure', 'sheath_closure_option', 'TheaterTotalTime', 'surgery_start_time', 'surgery_end_time', 'SurgeryTotalTime', 'wound_closure', 'post_op', 'regional_block', 'approach', 'planned_procedure', 'additional_procedure', 'lengths', 'common_channel_length', 'billiary_limb_length', 'allimentary_limb_length', 'total_bowel_length', 'cholecystectomy_repair', 'incisional_hernia_repair', 'hiatus_hernia_repair', 'drain', 'FollowUpPeriod', 'followupDays', 'id', 'capture_date', 'practice_id', 'practice_desc', 'doctor.1', 'unit', 'condition', 'doctor_id', 'doctor_desc', 'unit2', 'unit_desc', 'condition2', 'condition_desc', 'form_id', 'form_type', 'form_name', 'procedure_category.1', 'instance_id', 'chronic_meds_cnt.1', 'cm_count.1', 'DX_1', 'RPL_1', 'complication']\n"
     ]
    }
   ],
   "source": [
    "# Identify all complication-related columns\n",
    "comp_cols = [col for col in df.columns if 'comp' in col.lower()]\n",
    "\n",
    "# Create new dataset without the original complication columns\n",
    "df_new = df.drop(columns=comp_cols)\n",
    "\n",
    "# Add a single 'complication' column: 1 if any original comp column == 1, else 0\n",
    "df_new['complication'] = (df[comp_cols] == 1).any(axis=1).astype(int)\n",
    "\n",
    "# Display new dataset shape\n",
    "print(\"New dataset shape (rows, columns):\", df_new.shape)\n",
    "\n",
    "# Show a sample of the new 'complication' column alongside the ID\n",
    "# Show the first 10 rows of id and complication\n",
    "print(df_new[['id', 'complication']].head(10))\n",
    "print(\"First 15 column names:\", df_new.columns.tolist())"
   ]
  },
  {
   "cell_type": "code",
   "execution_count": 6,
   "id": "c437c808",
   "metadata": {},
   "outputs": [
    {
     "data": {
      "text/html": [
       "<div>\n",
       "<style scoped>\n",
       "    .dataframe tbody tr th:only-of-type {\n",
       "        vertical-align: middle;\n",
       "    }\n",
       "\n",
       "    .dataframe tbody tr th {\n",
       "        vertical-align: top;\n",
       "    }\n",
       "\n",
       "    .dataframe thead th {\n",
       "        text-align: right;\n",
       "    }\n",
       "</style>\n",
       "<table border=\"1\" class=\"dataframe\">\n",
       "  <thead>\n",
       "    <tr style=\"text-align: right;\">\n",
       "      <th></th>\n",
       "      <th>complication</th>\n",
       "    </tr>\n",
       "  </thead>\n",
       "  <tbody>\n",
       "    <tr>\n",
       "      <th>0</th>\n",
       "      <td>0</td>\n",
       "    </tr>\n",
       "    <tr>\n",
       "      <th>1</th>\n",
       "      <td>0</td>\n",
       "    </tr>\n",
       "    <tr>\n",
       "      <th>2</th>\n",
       "      <td>1</td>\n",
       "    </tr>\n",
       "    <tr>\n",
       "      <th>3</th>\n",
       "      <td>0</td>\n",
       "    </tr>\n",
       "    <tr>\n",
       "      <th>4</th>\n",
       "      <td>0</td>\n",
       "    </tr>\n",
       "  </tbody>\n",
       "</table>\n",
       "</div>"
      ],
      "text/plain": [
       "   complication\n",
       "0             0\n",
       "1             0\n",
       "2             1\n",
       "3             0\n",
       "4             0"
      ]
     },
     "execution_count": 6,
     "metadata": {},
     "output_type": "execute_result"
    }
   ],
   "source": [
    "core_Y_data=df_new[[\"complication\"]]\n",
    "\n",
    "core_Y_data.head()"
   ]
  },
  {
   "cell_type": "code",
   "execution_count": 7,
   "id": "f1b45b23",
   "metadata": {},
   "outputs": [
    {
     "data": {
      "text/plain": [
       "complication    34\n",
       "dtype: int64"
      ]
     },
     "execution_count": 7,
     "metadata": {},
     "output_type": "execute_result"
    }
   ],
   "source": [
    "core_Y_data[core_Y_data['complication'] == 1].count()"
   ]
  },
  {
   "cell_type": "code",
   "execution_count": 8,
   "id": "e1bbde91",
   "metadata": {},
   "outputs": [],
   "source": [
    "# Set style for better-looking plots\n",
    "plt.style.use('seaborn-v0_8-darkgrid')\n",
    "sns.set_palette(\"husl\")"
   ]
  },
  {
   "cell_type": "code",
   "execution_count": 9,
   "id": "6d6a2ac4",
   "metadata": {},
   "outputs": [
    {
     "ename": "NameError",
     "evalue": "name 'sds' is not defined",
     "output_type": "error",
     "traceback": [
      "\u001b[1;31m---------------------------------------------------------------------------\u001b[0m",
      "\u001b[1;31mNameError\u001b[0m                                 Traceback (most recent call last)",
      "Cell \u001b[1;32mIn[9], line 1\u001b[0m\n\u001b[1;32m----> 1\u001b[0m \u001b[43msds\u001b[49m\n",
      "\u001b[1;31mNameError\u001b[0m: name 'sds' is not defined"
     ]
    }
   ],
   "source": [
    "sds"
   ]
  }
 ],
 "metadata": {
  "kernelspec": {
   "display_name": "base",
   "language": "python",
   "name": "python3"
  },
  "language_info": {
   "codemirror_mode": {
    "name": "ipython",
    "version": 3
   },
   "file_extension": ".py",
   "mimetype": "text/x-python",
   "name": "python",
   "nbconvert_exporter": "python",
   "pygments_lexer": "ipython3",
   "version": "3.12.7"
  }
 },
 "nbformat": 4,
 "nbformat_minor": 5
}
