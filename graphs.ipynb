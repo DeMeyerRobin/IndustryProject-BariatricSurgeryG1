{
 "cells": [
  {
   "cell_type": "code",
   "execution_count": 1,
   "id": "b0f10b0e",
   "metadata": {},
   "outputs": [],
   "source": [
    "import pandas as pd\n",
    "\n",
    "# Read the Excel file (first sheet by default)\n",
    "df = pd.read_excel(\"Batriatic_Project.xlsx\")\n",
    "\n",
    "# Write out to CSV (no index column)\n",
    "df.to_csv(\"output.csv\", index=False)\n"
   ]
  },
  {
   "cell_type": "code",
   "execution_count": 5,
   "id": "f513b758",
   "metadata": {},
   "outputs": [
    {
     "name": "stdout",
     "output_type": "stream",
     "text": [
      "Dataset shape (rows, columns): (344, 889)\n",
      "First 15 column names: ['id', 'capture_date', 'doctor', 'procedure_category', 'form_date', 'admission_id', 'hospitalDesc', 'hospital_wardDesc', 'days_since_admission', 'length_of_stay', 'gender', 'age', 'weight', 'height', 'bmi']\n"
     ]
    }
   ],
   "source": [
    "import pandas as pd\n",
    "\n",
    "# Load the CSV dataset\n",
    "df = pd.read_csv('output.csv')\n",
    "\n",
    "# Display dataset shape and first 15 columns\n",
    "print(\"Dataset shape (rows, columns):\", df.shape)\n",
    "print(\"First 15 column names:\", df.columns.tolist()[:15])"
   ]
  },
  {
   "cell_type": "code",
   "execution_count": null,
   "id": "266c0fa3",
   "metadata": {},
   "outputs": [
    {
     "name": "stdout",
     "output_type": "stream",
     "text": [
      "New dataset shape (rows, columns): (344, 756)\n",
      "      id  complication\n",
      "0  45207             0\n",
      "1    824             0\n",
      "2  37253             1\n",
      "3  40073             0\n",
      "4   1616             0\n",
      "5  40501             0\n",
      "6  38458             0\n",
      "7  37531             0\n",
      "8  46862             1\n",
      "9  22775             0\n",
      "First 15 column names: ['id', 'capture_date', 'doctor', 'procedure_category', 'form_date', 'admission_id', 'hospitalDesc', 'hospital_wardDesc', 'days_since_admission', 'length_of_stay', 'gender', 'age', 'weight', 'height', 'bmi', 'ibw', 'ebw', 'surgical_hist_cnt', 'family_hist_cnt', 'chronic_meds_cnt', 'cm_count', 'complication_status', 'complication_grade', 'complication_cnt', 'post_op_complication', 'days_30_complication', 'days_30_plus_complication', 'minor_complication', 'major_complication', 'morbidity', 'CM_AIDS', 'CM_ALCOHOL', 'CM_ANEMDEF', 'CM_ARTH', 'CM_BLDLOSS', 'CM_CHF', 'CM_CHRNLUNG', 'CM_COAG', 'CM_DEPRESS', 'CM_DM', 'CM_DMCX', 'CM_DRUG', 'CM_HTN_C', 'CM_HYPOTHY', 'CM_LIVER', 'CM_LYMPH', 'CM_LYTES', 'CM_METS', 'CM_NEURO', 'CM_OBESE', 'CM_PARA', 'CM_PERIVASC', 'CM_PSYCH', 'CM_PULMCIRC', 'CM_RENLFAIL', 'CM_SMOKE', 'CM_TUMOR', 'CM_ULCER', 'CM_VALVE', 'CM_WGHTLOSS', 'CM_APNEA', 'CM_CHOLSTRL', 'CM_OSTARTH', 'CM_HPLD', 'minor_comp_month_1', 'minor_comp_month_3', 'minor_comp_month_6', 'minor_comp_month_12', 'minor_comp_month_24', 'minor_comp_month_36', 'minor_comp_month_36_plus', 'major_comp_month_1', 'major_comp_month_3', 'major_comp_month_6', 'major_comp_month_12', 'major_comp_month_24', 'major_comp_month_36', 'major_comp_month_36_plus', 're_admission_month_1', 're_admission_month_3', 're_admission_month_6', 're_admission_month_12', 're_admission_month_24', 're_admission_month_36', 're_admission_month_36_plus', 'mortality_month_1', 'mortality_month_3', 'mortality_month_6', 'mortality_month_12', 'mortality_month_24', 'mortality_month_36', 'mortality_month_36_plus', 'weight_loss_month_1', 'weight_loss_month_3', 'weight_loss_month_6', 'weight_loss_month_12', 'weight_loss_month_24', 'weight_loss_month_36', 'weight_loss_month_36_plus', 'recurrent_month_1', 'recurrent_month_3', 'recurrent_month_6', 'recurrent_month_12', 'recurrent_month_24', 'recurrent_month_36', 'recurrent_month_36_plus', 'emergency_surgery', 'surgeon', 'assistant', 'second_assistant', 'anaesthetist', 'antibiotics', 'cvp', 'cvp_a_line', 'cvp_catheter', 'cvp_dvt_pumps', 'surgery_notes', 'stapling', 'peritoneal_defects', 'peritoneal_defects_closed', 'bloodloss', 'bloodloss_amt', 'sheath_closure', 'sheath_closure_option', 'TheaterStartTime', 'TheaterEndTime', 'TheaterTotalTime', 'surgery_start_time', 'surgery_end_time', 'wound_closure', 'post_op', 'complications', 'regional_block', 'approach', 'planned_procedure', 'additional_procedure', 'lengths', 'common_channel_length', 'billiary_limb_length', 'allimentary_limb_length', 'total_bowel_length', 'cholecystectomy_repair', 'incisional_hernia_repair', 'hiatus_hernia_repair', 'stapling_amount', 'drain', 'surgery_complication', 'clinical_indication', 'findings_note', 'FollowUpPeriod', 'followupDays', 'id.1', 'capture_date.1', 'patient', 'ID_Number', 'patient_id', 'practice_id', 'practice_desc', 'doctor.1', 'unit', 'condition', 'doctor_id', 'doctor_desc', 'unit2', 'unit_desc', 'condition2', 'condition_desc', 'form_id', 'form_type', 'form_name', 'procedure_category.1', 'instance_id', 'form_status', 'form_date.1', 'hospital', 'hospital_ward', 'admission_id.1', 'hospitalDesc.1', 'hospital_wardDesc.1', 'days_since_admission.1', 'length_of_stay.1', 'gender.1', 'age.1', 'weight.1', 'height.1', 'bmi.1', 'ibw.1', 'ebw.1', 'surgical_hist_cnt.1', 'family_hist_cnt.1', 'chronic_meds_cnt.1', 'cm_count.1', 'complication_status.1', 'complication_grade.1', 'complication_cnt.1', 'post_op_complication.1', 'days_30_complication.1', 'days_30_plus_complication.1', 'minor_complication.1', 'major_complication.1', 'morbidity.1', 'CM_AIDS.1', 'CM_ALCOHOL.1', 'CM_ANEMDEF.1', 'CM_ARTH.1', 'CM_BLDLOSS.1', 'CM_CHF.1', 'CM_CHRNLUNG.1', 'CM_COAG.1', 'CM_DEPRESS.1', 'CM_DM.1', 'CM_DMCX.1', 'CM_DRUG.1', 'CM_HTN_C.1', 'CM_HYPOTHY.1', 'CM_LIVER.1', 'CM_LYMPH.1', 'CM_LYTES.1', 'CM_METS.1', 'CM_NEURO.1', 'CM_OBESE.1', 'CM_PARA.1', 'CM_PERIVASC.1', 'CM_PSYCH.1', 'CM_PULMCIRC.1', 'CM_RENLFAIL.1', 'CM_SMOKE.1', 'CM_TUMOR.1', 'CM_ULCER.1', 'CM_VALVE.1', 'CM_WGHTLOSS.1', 'CM_APNEA.1', 'CM_CHOLSTRL.1', 'CM_OSTARTH.1', 'CM_HPLD.1', 'DX_1', 'DX_2', 'DX_3', 'DX_4', 'DX_5', 'DX_6', 'DX_7', 'DX_8', 'DX_9', 'DX_10', 'RPL_1', 'RPL_2', 'RPL_3', 'RPL_4', 'RPL_5', 'RPL_6', 'RPL_7', 'RPL_8', 'RPL_9', 'RPL_10', 'minor_comp_month_1.1', 'minor_comp_month_3.1', 'minor_comp_month_6.1', 'minor_comp_month_12.1', 'minor_comp_month_24.1', 'minor_comp_month_36.1', 'minor_comp_month_36_plus.1', 'major_comp_month_1.1', 'major_comp_month_3.1', 'major_comp_month_6.1', 'major_comp_month_12.1', 'major_comp_month_24.1', 'major_comp_month_36.1', 'major_comp_month_36_plus.1', 're_admission_month_1.1', 're_admission_month_3.1', 're_admission_month_6.1', 're_admission_month_12.1', 're_admission_month_24.1', 're_admission_month_36.1', 're_admission_month_36_plus.1', 'mortality_month_1.1', 'mortality_month_3.1', 'mortality_month_6.1', 'mortality_month_12.1', 'mortality_month_24.1', 'mortality_month_36.1', 'mortality_month_36_plus.1', 'weight_loss_month_1.1', 'weight_loss_month_3.1', 'weight_loss_month_6.1', 'weight_loss_month_12.1', 'weight_loss_month_24.1', 'weight_loss_month_36.1', 'weight_loss_month_36_plus.1', 'recurrent_month_1.1', 'recurrent_month_3.1', 'recurrent_month_6.1', 'recurrent_month_12.1', 'recurrent_month_24.1', 'recurrent_month_36.1', 'recurrent_month_36_plus.1', 'FollowUpPeriod.1', 'followupDays.1', 'id.2', 'capture_date.2', 'patient.1', 'ID_Number.1', 'patient_id.1', 'practice_id.1', 'practice_desc.1', 'doctor.2', 'unit.1', 'condition.1', 'doctor_id.1', 'doctor_desc.1', 'unit2.1', 'unit_desc.1', 'condition2.1', 'condition_desc.1', 'form_id.1', 'form_type.1', 'form_name.1', 'procedure_category.2', 'instance_id.1', 'form_status.1', 'form_date.2', 'hospital.1', 'hospital_ward.1', 'admission_id.2', 'hospitalDesc.2', 'hospital_wardDesc.2', 'days_since_admission.2', 'length_of_stay.2', 'gender.2', 'age.2', 'weight.2', 'height.2', 'bmi.2', 'ibw.2', 'ebw.2', 'surgical_hist_cnt.2', 'family_hist_cnt.2', 'chronic_meds_cnt.2', 'cm_count.2', 'complication_status.2', 'complication_grade.2', 'complication_cnt.2', 'post_op_complication.2', 'days_30_complication.2', 'days_30_plus_complication.2', 'minor_complication.2', 'major_complication.2', 'morbidity.2', 'CM_AIDS.2', 'CM_ALCOHOL.2', 'CM_ANEMDEF.2', 'CM_ARTH.2', 'CM_BLDLOSS.2', 'CM_CHF.2', 'CM_CHRNLUNG.2', 'CM_COAG.2', 'CM_DEPRESS.2', 'CM_DM.2', 'CM_DMCX.2', 'CM_DRUG.2', 'CM_HTN_C.2', 'CM_HYPOTHY.2', 'CM_LIVER.2', 'CM_LYMPH.2', 'CM_LYTES.2', 'CM_METS.2', 'CM_NEURO.2', 'CM_OBESE.2', 'CM_PARA.2', 'CM_PERIVASC.2', 'CM_PSYCH.2', 'CM_PULMCIRC.2', 'CM_RENLFAIL.2', 'CM_SMOKE.2', 'CM_TUMOR.2', 'CM_ULCER.2', 'CM_VALVE.2', 'CM_WGHTLOSS.2', 'CM_APNEA.2', 'CM_CHOLSTRL.2', 'CM_OSTARTH.2', 'CM_HPLD.2', 'DX_1.1', 'DX_2.1', 'DX_3.1', 'DX_4.1', 'DX_5.1', 'DX_6.1', 'DX_7.1', 'DX_8.1', 'DX_9.1', 'DX_10.1', 'RPL_1.1', 'RPL_2.1', 'RPL_3.1', 'RPL_4.1', 'RPL_5.1', 'RPL_6.1', 'RPL_7.1', 'RPL_8.1', 'RPL_9.1', 'RPL_10.1', 'minor_comp_month_1.2', 'minor_comp_month_3.2', 'minor_comp_month_6.2', 'minor_comp_month_12.2', 'minor_comp_month_24.2', 'minor_comp_month_36.2', 'minor_comp_month_36_plus.2', 'major_comp_month_1.2', 'major_comp_month_3.2', 'major_comp_month_6.2', 'major_comp_month_12.2', 'major_comp_month_24.2', 'major_comp_month_36.2', 'major_comp_month_36_plus.2', 're_admission_month_1.2', 're_admission_month_3.2', 're_admission_month_6.2', 're_admission_month_12.2', 're_admission_month_24.2', 're_admission_month_36.2', 're_admission_month_36_plus.2', 'mortality_month_1.2', 'mortality_month_3.2', 'mortality_month_6.2', 'mortality_month_12.2', 'mortality_month_24.2', 'mortality_month_36.2', 'mortality_month_36_plus.2', 'weight_loss_month_1.2', 'weight_loss_month_3.2', 'weight_loss_month_6.2', 'weight_loss_month_12.2', 'weight_loss_month_24.2', 'weight_loss_month_36.2', 'weight_loss_month_36_plus.2', 'recurrent_month_1.2', 'recurrent_month_3.2', 'recurrent_month_6.2', 'recurrent_month_12.2', 'recurrent_month_24.2', 'recurrent_month_36.2', 'recurrent_month_36_plus.2', 'FollowUpPeriod.2', 'followupDays.2', 'id.3', 'capture_date.3', 'patient.2', 'ID_Number.2', 'patient_id.2', 'practice_id.2', 'practice_desc.2', 'doctor.3', 'unit.2', 'condition.2', 'doctor_id.2', 'doctor_desc.2', 'unit2.2', 'unit_desc.2', 'condition2.2', 'condition_desc.2', 'form_id.2', 'form_type.2', 'form_name.2', 'procedure_category.3', 'instance_id.2', 'form_status.2', 'form_date.3', 'hospital.2', 'hospital_ward.2', 'admission_id.3', 'hospitalDesc.3', 'hospital_wardDesc.3', 'days_since_admission.3', 'length_of_stay.3', 'gender.3', 'age.3', 'weight.3', 'height.3', 'bmi.3', 'ibw.3', 'ebw.3', 'surgical_hist_cnt.3', 'family_hist_cnt.3', 'chronic_meds_cnt.3', 'cm_count.3', 'complication_status.3', 'complication_grade.3', 'complication_cnt.3', 'post_op_complication.3', 'days_30_complication.3', 'days_30_plus_complication.3', 'minor_complication.3', 'major_complication.3', 'morbidity.3', 'CM_AIDS.3', 'CM_ALCOHOL.3', 'CM_ANEMDEF.3', 'CM_ARTH.3', 'CM_BLDLOSS.3', 'CM_CHF.3', 'CM_CHRNLUNG.3', 'CM_COAG.3', 'CM_DEPRESS.3', 'CM_DM.3', 'CM_DMCX.3', 'CM_DRUG.3', 'CM_HTN_C.3', 'CM_HYPOTHY.3', 'CM_LIVER.3', 'CM_LYMPH.3', 'CM_LYTES.3', 'CM_METS.3', 'CM_NEURO.3', 'CM_OBESE.3', 'CM_PARA.3', 'CM_PERIVASC.3', 'CM_PSYCH.3', 'CM_PULMCIRC.3', 'CM_RENLFAIL.3', 'CM_SMOKE.3', 'CM_TUMOR.3', 'CM_ULCER.3', 'CM_VALVE.3', 'CM_WGHTLOSS.3', 'CM_APNEA.3', 'CM_CHOLSTRL.3', 'CM_OSTARTH.3', 'CM_HPLD.3', 'DX_1.2', 'DX_2.2', 'DX_3.2', 'DX_4.2', 'DX_5.2', 'DX_6.2', 'DX_7.2', 'DX_8.2', 'DX_9.2', 'DX_10.2', 'RPL_1.2', 'RPL_2.2', 'RPL_3.2', 'RPL_4.2', 'RPL_5.2', 'RPL_6.2', 'RPL_7.2', 'RPL_8.2', 'RPL_9.2', 'RPL_10.2', 'minor_comp_month_1.3', 'minor_comp_month_3.3', 'minor_comp_month_6.3', 'minor_comp_month_12.3', 'minor_comp_month_24.3', 'minor_comp_month_36.3', 'minor_comp_month_36_plus.3', 'major_comp_month_1.3', 'major_comp_month_3.3', 'major_comp_month_6.3', 'major_comp_month_12.3', 'major_comp_month_24.3', 'major_comp_month_36.3', 'major_comp_month_36_plus.3', 're_admission_month_1.3', 're_admission_month_3.3', 're_admission_month_6.3', 're_admission_month_12.3', 're_admission_month_24.3', 're_admission_month_36.3', 're_admission_month_36_plus.3', 'mortality_month_1.3', 'mortality_month_3.3', 'mortality_month_6.3', 'mortality_month_12.3', 'mortality_month_24.3', 'mortality_month_36.3', 'mortality_month_36_plus.3', 'weight_loss_month_1.3', 'weight_loss_month_3.3', 'weight_loss_month_6.3', 'weight_loss_month_12.3', 'weight_loss_month_24.3', 'weight_loss_month_36.3', 'weight_loss_month_36_plus.3', 'recurrent_month_1.3', 'recurrent_month_3.3', 'recurrent_month_6.3', 'recurrent_month_12.3', 'recurrent_month_24.3', 'recurrent_month_36.3', 'recurrent_month_36_plus.3', 'FollowUpPeriod.3', 'followupDays.3', 'id.4', 'capture_date.4', 'patient.3', 'ID_Number.3', 'patient_id.3', 'practice_id.3', 'practice_desc.3', 'doctor.4', 'unit.3', 'condition.3', 'doctor_id.3', 'doctor_desc.3', 'unit2.3', 'unit_desc.3', 'condition2.3', 'condition_desc.3', 'form_id.3', 'form_type.3', 'form_name.3', 'procedure_category.4', 'instance_id.3', 'form_status.3', 'form_date.4', 'hospital.3', 'hospital_ward.3', 'admission_id.4', 'hospitalDesc.4', 'hospital_wardDesc.4', 'days_since_admission.4', 'length_of_stay.4', 'gender.4', 'age.4', 'weight.4', 'height.4', 'bmi.4', 'ibw.4', 'ebw.4', 'surgical_hist_cnt.4', 'family_hist_cnt.4', 'chronic_meds_cnt.4', 'cm_count.4', 'complication_status.4', 'complication_grade.4', 'complication_cnt.4', 'post_op_complication.4', 'days_30_complication.4', 'days_30_plus_complication.4', 'minor_complication.4', 'major_complication.4', 'morbidity.4', 'CM_AIDS.4', 'CM_ALCOHOL.4', 'CM_ANEMDEF.4', 'CM_ARTH.4', 'CM_BLDLOSS.4', 'CM_CHF.4', 'CM_CHRNLUNG.4', 'CM_COAG.4', 'CM_DEPRESS.4', 'CM_DM.4', 'CM_DMCX.4', 'CM_DRUG.4', 'CM_HTN_C.4', 'CM_HYPOTHY.4', 'CM_LIVER.4', 'CM_LYMPH.4', 'CM_LYTES.4', 'CM_METS.4', 'CM_NEURO.4', 'CM_OBESE.4', 'CM_PARA.4', 'CM_PERIVASC.4', 'CM_PSYCH.4', 'CM_PULMCIRC.4', 'CM_RENLFAIL.4', 'CM_SMOKE.4', 'CM_TUMOR.4', 'CM_ULCER.4', 'CM_VALVE.4', 'CM_WGHTLOSS.4', 'CM_APNEA.4', 'CM_CHOLSTRL.4', 'CM_OSTARTH.4', 'CM_HPLD.4', 'DX_1.3', 'DX_2.3', 'DX_3.3', 'DX_4.3', 'DX_5.3', 'DX_6.3', 'DX_7.3', 'DX_8.3', 'DX_9.3', 'DX_10.3', 'RPL_1.3', 'RPL_2.3', 'RPL_3.3', 'RPL_4.3', 'RPL_5.3', 'RPL_6.3', 'RPL_7.3', 'RPL_8.3', 'RPL_9.3', 'RPL_10.3', 'minor_comp_month_1.4', 'minor_comp_month_3.4', 'minor_comp_month_6.4', 'minor_comp_month_12.4', 'minor_comp_month_24.4', 'minor_comp_month_36.4', 'minor_comp_month_36_plus.4', 'major_comp_month_1.4', 'major_comp_month_3.4', 'major_comp_month_6.4', 'major_comp_month_12.4', 'major_comp_month_24.4', 'major_comp_month_36.4', 'major_comp_month_36_plus.4', 're_admission_month_1.4', 're_admission_month_3.4', 're_admission_month_6.4', 're_admission_month_12.4', 're_admission_month_24.4', 're_admission_month_36.4', 're_admission_month_36_plus.4', 'mortality_month_1.4', 'mortality_month_3.4', 'mortality_month_6.4', 'mortality_month_12.4', 'mortality_month_24.4', 'mortality_month_36.4', 'mortality_month_36_plus.4', 'weight_loss_month_1.4', 'weight_loss_month_3.4', 'weight_loss_month_6.4', 'weight_loss_month_12.4', 'weight_loss_month_24.4', 'weight_loss_month_36.4', 'weight_loss_month_36_plus.4', 'recurrent_month_1.4', 'recurrent_month_3.4', 'recurrent_month_6.4', 'recurrent_month_12.4', 'recurrent_month_24.4', 'recurrent_month_36.4', 'recurrent_month_36_plus.4', 'FollowUpPeriod.4', 'followupDays.4', 'id.5', 'capture_date.5', 'patient.4', 'ID_Number.4', 'patient_id.4', 'practice_id.4', 'practice_desc.4', 'doctor.5', 'unit.4', 'condition.4', 'doctor_id.4', 'doctor_desc.4', 'unit2.4', 'unit_desc.4', 'condition2.4', 'condition_desc.4', 'form_id.4', 'form_type.4', 'form_name.4', 'procedure_category.5', 'instance_id.4', 'form_status.4', 'form_date.5', 'hospital.4', 'hospital_ward.4', 'admission_id.5', 'hospitalDesc.5', 'hospital_wardDesc.5', 'days_since_admission.5', 'length_of_stay.5', 'gender.5', 'age.5', 'weight.5', 'height.5', 'bmi.5', 'ibw.5', 'ebw.5', 'surgical_hist_cnt.5', 'family_hist_cnt.5', 'chronic_meds_cnt.5', 'cm_count.5', 'complication_status.5', 'complication_grade.5', 'complication_cnt.5', 'post_op_complication.5', 'days_30_complication.5', 'days_30_plus_complication.5', 'minor_complication.5', 'major_complication.5', 'morbidity.5', 'CM_AIDS.5', 'CM_ALCOHOL.5', 'CM_ANEMDEF.5', 'CM_ARTH.5', 'CM_BLDLOSS.5', 'CM_CHF.5', 'CM_CHRNLUNG.5', 'CM_COAG.5', 'CM_DEPRESS.5', 'CM_DM.5', 'CM_DMCX.5', 'CM_DRUG.5', 'CM_HTN_C.5', 'CM_HYPOTHY.5', 'CM_LIVER.5', 'CM_LYMPH.5', 'CM_LYTES.5', 'CM_METS.5', 'CM_NEURO.5', 'CM_OBESE.5', 'CM_PARA.5', 'CM_PERIVASC.5', 'CM_PSYCH.5', 'CM_PULMCIRC.5', 'CM_RENLFAIL.5', 'CM_SMOKE.5', 'CM_TUMOR.5', 'CM_ULCER.5', 'CM_VALVE.5', 'CM_WGHTLOSS.5', 'CM_APNEA.5', 'CM_CHOLSTRL.5', 'CM_OSTARTH.5', 'CM_HPLD.5', 'DX_1.4', 'DX_2.4', 'DX_3.4', 'DX_4.4', 'DX_5.4', 'DX_6.4', 'DX_7.4', 'DX_8.4', 'DX_9.4', 'DX_10.4', 'RPL_1.4', 'RPL_2.4', 'RPL_3.4', 'RPL_4.4', 'RPL_5.4', 'RPL_6.4', 'RPL_7.4', 'RPL_8.4', 'RPL_9.4', 'RPL_10.4', 'minor_comp_month_1.5', 'minor_comp_month_3.5', 'minor_comp_month_6.5', 'minor_comp_month_12.5', 'minor_comp_month_24.5', 'minor_comp_month_36.5', 'minor_comp_month_36_plus.5', 'major_comp_month_1.5', 'major_comp_month_3.5', 'major_comp_month_6.5', 'major_comp_month_12.5', 'major_comp_month_24.5', 'major_comp_month_36.5', 'major_comp_month_36_plus.5', 're_admission_month_1.5', 're_admission_month_3.5', 're_admission_month_6.5', 're_admission_month_12.5', 're_admission_month_24.5', 're_admission_month_36.5', 're_admission_month_36_plus.5', 'mortality_month_1.5', 'mortality_month_3.5', 'mortality_month_6.5', 'mortality_month_12.5', 'mortality_month_24.5', 'mortality_month_36.5', 'mortality_month_36_plus.5', 'weight_loss_month_1.5', 'weight_loss_month_3.5', 'weight_loss_month_6.5', 'weight_loss_month_12.5', 'weight_loss_month_24.5', 'weight_loss_month_36.5', 'weight_loss_month_36_plus.5', 'recurrent_month_1.5', 'recurrent_month_3.5', 'recurrent_month_6.5', 'recurrent_month_12.5', 'recurrent_month_24.5', 'recurrent_month_36.5', 'recurrent_month_36_plus.5']\n"
     ]
    }
   ],
   "source": [
    "# Identify all complication-related columns\n",
    "comp_cols = [col for col in df.columns if 'comp' in col.lower()]\n",
    "\n",
    "# Create new dataset without the original complication columns\n",
    "df_new = df.drop(columns=comp_cols)\n",
    "\n",
    "# Add a single 'complication' column: 1 if any original comp column == 1, else 0\n",
    "df_new['complication'] = (df[comp_cols] == 1).any(axis=1).astype(int)\n",
    "\n",
    "# Display new dataset shape\n",
    "print(\"New dataset shape (rows, columns):\", df_new.shape)\n",
    "\n",
    "# Show a sample of the new 'complication' column alongside the ID\n",
    "# Show the first 10 rows of id and complication\n",
    "print(df_new[['id', 'complication']].head(10))\n",
    "print(\"First 15 column names:\", df_new.columns.tolist())"
   ]
  }
 ],
 "metadata": {
  "kernelspec": {
   "display_name": "Python 3",
   "language": "python",
   "name": "python3"
  },
  "language_info": {
   "codemirror_mode": {
    "name": "ipython",
    "version": 3
   },
   "file_extension": ".py",
   "mimetype": "text/x-python",
   "name": "python",
   "nbconvert_exporter": "python",
   "pygments_lexer": "ipython3",
   "version": "3.12.10"
  }
 },
 "nbformat": 4,
 "nbformat_minor": 5
}
